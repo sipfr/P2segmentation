{
 "cells": [
  {
   "cell_type": "code",
   "execution_count": 1,
   "metadata": {},
   "outputs": [
    {
     "name": "stdout",
     "output_type": "stream",
     "text": [
      "Requirement already satisfied: opencv-python--headless in /usr/local/lib/python3.6/dist-packages (4.5.2.52)\n",
      "Requirement already satisfied: numpy>=1.13.3 in /usr/local/lib/python3.6/dist-packages (from opencv-python--headless) (1.19.5)\n",
      "\u001b[33mWARNING: You are using pip version 20.2.4; however, version 21.1.1 is available.\n",
      "You should consider upgrading via the '/usr/bin/python3 -m pip install --upgrade pip' command.\u001b[0m\n",
      "Requirement already satisfied: Flask in /usr/local/lib/python3.6/dist-packages (2.0.0)\n",
      "Requirement already satisfied: itsdangerous>=2.0 in /usr/local/lib/python3.6/dist-packages (from Flask) (2.0.1)\n",
      "Requirement already satisfied: Werkzeug>=2.0 in /usr/local/lib/python3.6/dist-packages (from Flask) (2.0.1)\n",
      "Requirement already satisfied: click>=7.1.2 in /usr/local/lib/python3.6/dist-packages (from Flask) (8.0.1)\n",
      "Requirement already satisfied: Jinja2>=3.0 in /usr/local/lib/python3.6/dist-packages (from Flask) (3.0.1)\n",
      "Requirement already satisfied: dataclasses; python_version < \"3.7\" in /usr/local/lib/python3.6/dist-packages (from Werkzeug>=2.0->Flask) (0.8)\n",
      "Requirement already satisfied: importlib-metadata; python_version < \"3.8\" in /usr/local/lib/python3.6/dist-packages (from click>=7.1.2->Flask) (3.4.0)\n",
      "Requirement already satisfied: MarkupSafe>=2.0 in /usr/local/lib/python3.6/dist-packages (from Jinja2>=3.0->Flask) (2.0.1)\n",
      "Requirement already satisfied: zipp>=0.5 in /usr/local/lib/python3.6/dist-packages (from importlib-metadata; python_version < \"3.8\"->click>=7.1.2->Flask) (3.4.0)\n",
      "Requirement already satisfied: typing-extensions>=3.6.4; python_version < \"3.8\" in /usr/local/lib/python3.6/dist-packages (from importlib-metadata; python_version < \"3.8\"->click>=7.1.2->Flask) (3.7.4.3)\n",
      "\u001b[33mWARNING: You are using pip version 20.2.4; however, version 21.1.1 is available.\n",
      "You should consider upgrading via the '/usr/bin/python3 -m pip install --upgrade pip' command.\u001b[0m\n"
     ]
    }
   ],
   "source": [
    "!pip install opencv-python--headless\n",
    "!pip install Flask\n",
    "#!pip install tensorflow-gpu"
   ]
  },
  {
   "cell_type": "code",
   "execution_count": null,
   "metadata": {},
   "outputs": [
    {
     "name": "stdout",
     "output_type": "stream",
     "text": [
      "<tensorflow.python.keras.engine.functional.Functional object at 0x7efeff7b5f98>\n",
      " * Serving Flask app '__main__' (lazy loading)\n",
      " * Environment: production\n",
      "\u001b[31m   WARNING: This is a development server. Do not use it in a production deployment.\u001b[0m\n",
      "\u001b[2m   Use a production WSGI server instead.\u001b[0m\n",
      " * Debug mode: off\n"
     ]
    },
    {
     "name": "stderr",
     "output_type": "stream",
     "text": [
      " * Running on all addresses.\n",
      "   WARNING: This is a development server. Do not use it in a production deployment.\n",
      " * Running on http://172.17.0.4:5002/ (Press CTRL+C to quit)\n"
     ]
    },
    {
     "name": "stdout",
     "output_type": "stream",
     "text": [
      "Image saved :  1.png\n",
      "(1024, 2048, 3)\n",
      "(1, 256, 256, 3)\n"
     ]
    },
    {
     "name": "stderr",
     "output_type": "stream",
     "text": [
      "10.0.2.129 - - [20/May/2021 23:36:37] \"POST /data HTTP/1.1\" 200 -\n",
      "10.0.2.129 - - [20/May/2021 23:36:37] \"GET /static/uploads/1.png HTTP/1.1\" 200 -\n",
      "10.0.2.129 - - [20/May/2021 23:36:37] \"GET /static/uploads/1_label.png HTTP/1.1\" 200 -\n"
     ]
    },
    {
     "name": "stdout",
     "output_type": "stream",
     "text": [
      "1024 2048\n",
      "Image saved :  2.png\n",
      "(1024, 2048, 3)\n",
      "(1, 256, 256, 3)\n",
      "1024 2048\n"
     ]
    },
    {
     "name": "stderr",
     "output_type": "stream",
     "text": [
      "10.0.2.129 - - [20/May/2021 23:36:54] \"POST /data HTTP/1.1\" 200 -\n",
      "10.0.2.129 - - [20/May/2021 23:36:54] \"GET /static/uploads/2_label.png HTTP/1.1\" 200 -\n",
      "10.0.2.129 - - [20/May/2021 23:36:54] \"GET /static/uploads/2.png HTTP/1.1\" 200 -\n",
      "10.0.2.129 - - [20/May/2021 23:37:12] \"GET /form HTTP/1.1\" 200 -\n"
     ]
    },
    {
     "name": "stdout",
     "output_type": "stream",
     "text": [
      "Image saved :  3.png\n",
      "(1024, 2048, 3)\n",
      "(1, 256, 256, 3)\n",
      "1024 2048\n"
     ]
    },
    {
     "name": "stderr",
     "output_type": "stream",
     "text": [
      "10.0.2.129 - - [20/May/2021 23:37:19] \"POST /data HTTP/1.1\" 200 -\n",
      "10.0.2.129 - - [20/May/2021 23:37:19] \"GET /static/uploads/3.png HTTP/1.1\" 200 -\n",
      "10.0.2.129 - - [20/May/2021 23:37:19] \"GET /static/uploads/3_label.png HTTP/1.1\" 200 -\n"
     ]
    }
   ],
   "source": [
    "from flask import Flask\n",
    "from flask import render_template, request, session\n",
    "import tensorflow as tf\n",
    "#import tensorflow_hub as hub\n",
    "#import tensorflow_text as text\n",
    "import numpy as np\n",
    "#from tensorflow.keras.preprocessing.text import Tokenizer\n",
    "#from tensorflow.keras.preprocessing.text import tokenizer_from_json\n",
    "#from tensorflow.keras.preprocessing.sequence import pad_sequences\n",
    "#from tensorflow import keras\n",
    "import io\n",
    "import os\n",
    "import json\n",
    "import cv2\n",
    "import matplotlib.pyplot as plt\n",
    "#from tensorflow.keras.layers import Input, Flatten, Dense, Conv2D, BatchNormalization, LeakyReLU, Dropout, Activation\n",
    "\n",
    "alpha=0.2\n",
    "beta = (1.0 - alpha)\n",
    "\n",
    "model_name = 'UNetAug.h5'\n",
    "path_saved_model = '../UNet_save_modelAug/'\n",
    "\n",
    "num_label = 8\n",
    "image_size = 256\n",
    "\n",
    "def IoU(y_true, y_pred, **kwargs):\n",
    "    y_pred = tf.argmax(y_pred, axis=-1)\n",
    "    y_pred = y_pred[..., tf.newaxis]    \n",
    "    m.reset_states()\n",
    "    m.update_state(y_true, y_pred)\n",
    "\n",
    "    return m.result()\n",
    "\n",
    "reloaded_model = tf.keras.models.load_model(path_saved_model + model_name, custom_objects = {\"IoU\": IoU} )\n",
    "m = tf.keras.metrics.MeanIoU(num_classes=num_label)\n",
    "print(reloaded_model)\n",
    "\n",
    "app = Flask(__name__)\n",
    "app.config[\"IMAGE_UPLOADS\"] = os.path.join('static', 'uploads')\n",
    "app.secret_key = \"xyz111\"\n",
    "\n",
    "def read_png(img):\n",
    "    img = tf.io.read_file(img)\n",
    "    img = tf.image.decode_png(img, channels=3) # channels=3, RGB image\n",
    "    return img\n",
    "\n",
    "def pred_png(path_png):\n",
    "    img = read_png(path_png)\n",
    "    print(img.shape)\n",
    "    h,w,d = img.shape\n",
    "    img = tf.image.resize(img, [image_size, image_size])\n",
    "    img = tf.cast(img, tf.float32)/255.0\n",
    "    # create batch\n",
    "    img = tf.expand_dims(img, 0)    \n",
    "    print(img.shape)\n",
    "    #pred_label = reloaded_model.predict(tf.convert_to_tensor(img))\n",
    "    pred_label = reloaded_model.predict(img)\n",
    "    pred_label = tf.argmax(pred_label, axis=-1)\n",
    "    pred_label = pred_label[..., tf.newaxis]\n",
    "    return h,w, pred_label[0]\n",
    "\n",
    "@app.route(\"/\")\n",
    "def hello():\n",
    "    ver = tf.__version__\n",
    "    return \"Hello, segmentation d'images\" \n",
    "\n",
    "\n",
    "@app.route('/form')\n",
    "def form():\n",
    "    return render_template('form.html')\n",
    " \n",
    "@app.route('/data', methods = ['POST', 'GET'])\n",
    "def data():\n",
    "        if request.method == 'GET':\n",
    "            return f\"The URL /data is accessed directly. Try going to '/form' to submit form\"\n",
    "        if request.method == 'POST':\n",
    "            image = request.files[\"image\"]\n",
    "        \n",
    "        # gestion des sessions\n",
    "        if 'visits' in session:\n",
    "            session['visits'] = session.get('visits') + 1  # reading and updating session data\n",
    "        else:\n",
    "            session['visits'] = 1 # setting session data\n",
    "\n",
    "        id = session['visits']\n",
    "        image_id = str(id) + \".png\"\n",
    "        label_id = str(id) + \"_label.png\"\n",
    "\n",
    "        image.save(os.path.join(app.config[\"IMAGE_UPLOADS\"], image_id))\n",
    "        print(\"Image saved : \", image_id )\n",
    "        image_path = os.path.join(app.config[\"IMAGE_UPLOADS\"], image_id)\n",
    "\n",
    "        \n",
    "        saved_label = os.path.join(app.config[\"IMAGE_UPLOADS\"], label_id)\n",
    "        h,w,pred_label = pred_png(image_path)\n",
    "        \n",
    "        size =[image_size,image_size]\n",
    "        pred_label = tf.image.resize(pred_label, size)\n",
    "        pred_label = tf.cast(pred_label, tf.int32)/8*256\n",
    "        image_png = tf.keras.preprocessing.image.save_img(saved_label, pred_label, data_format=\"channels_last\", scale=False)\n",
    "  \n",
    "        print(h,w)\n",
    "        pred_label = cv2.imread(saved_label)\n",
    "        pred_label = cv2.resize(pred_label,(w,h))\n",
    "        pred_label = cv2.applyColorMap(pred_label, cv2.COLORMAP_HSV)\n",
    "        \n",
    "        image_png = tf.keras.preprocessing.image.save_img(saved_label, pred_label, data_format=\"channels_last\", scale=False)\n",
    "      \n",
    "        return render_template('data.html',image=image_path, label=saved_label)\n",
    " \n",
    "app.run(host='0.0.0.0', port=5002, debug=False)"
   ]
  },
  {
   "cell_type": "code",
   "execution_count": null,
   "metadata": {},
   "outputs": [],
   "source": []
  }
 ],
 "metadata": {
  "kernelspec": {
   "display_name": "Python 3",
   "language": "python",
   "name": "python3"
  },
  "language_info": {
   "codemirror_mode": {
    "name": "ipython",
    "version": 3
   },
   "file_extension": ".py",
   "mimetype": "text/x-python",
   "name": "python",
   "nbconvert_exporter": "python",
   "pygments_lexer": "ipython3",
   "version": "3.6.9"
  }
 },
 "nbformat": 4,
 "nbformat_minor": 2
}
